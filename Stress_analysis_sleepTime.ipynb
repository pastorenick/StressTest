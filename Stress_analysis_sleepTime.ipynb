{
 "cells": [
  {
   "cell_type": "markdown",
   "metadata": {},
   "source": [
    "### Extracting sleeping region"
   ]
  },
  {
   "cell_type": "markdown",
   "metadata": {},
   "source": [
    "###### written by Nicola Pastorello 16/11/2015"
   ]
  },
  {
   "cell_type": "code",
   "execution_count": 2,
   "metadata": {
    "collapsed": true
   },
   "outputs": [],
   "source": [
    "%matplotlib inline\n",
    "# Loading libraries\n",
    "import numpy as np\n",
    "import pandas as pd\n",
    "import datetime, pickle\n",
    "import os, glob, sys\n",
    "from pylab import *\n",
    "from scipy import signal, misc, optimize"
   ]
  },
  {
   "cell_type": "code",
   "execution_count": 3,
   "metadata": {
    "collapsed": false
   },
   "outputs": [],
   "source": [
    "# Functions\n",
    "def functLinesStep(inputPars, xr, numberLines): #Function with sequential lines (not contiguous)\n",
    "    mvalues, qvalues, breakPoints = (inputPars[:numberLines], \n",
    "                                     inputPars[numberLines:numberLines+3], \n",
    "                                     inputPars[-numberLines+1:])\n",
    "    #\n",
    "    if (len(mvalues)!=numberLines) or (len(qvalues)!=numberLines):\n",
    "        print \"Number of parameters not matching\"\n",
    "        return False\n",
    "    #\n",
    "    # Select different regions\n",
    "    regions = retrieveSelection(xr, breakPoints)\n",
    "    #\n",
    "    yy = np.empty(len(xr))\n",
    "    for ii in np.arange(len(regions)):\n",
    "        selection = regions[ii][0]\n",
    "        yy[selection] = mvalues[ii]*xr[selection]+qvalues[ii]\n",
    "    return yy\n",
    "# Example\n",
    "# xx = np.arange(1400)\n",
    "# yy = functLinesStep(xx, [0, 0.5, -0.2, 0.1], [1,2,5.,-2], [250, 800, 1200])\n",
    "# plot(xx,yy)\n",
    "\n",
    "def measure_chi2_Lines(inputPars, xx, yy, numberLines, \n",
    "                       acc): # acc_sel is the selection of the accelerometer array within the two breaks\n",
    "    yy_model = functLinesStep(inputPars, xx, numberLines)\n",
    "    chi2 = Chi2(yy, yy_model)\n",
    "    # Penalization\n",
    "    sel_sleep = np.where((xx>inputPars[-2]) & (xx<=inputPars[-1]))\n",
    "    sel_awake = np.where((xx<=inputPars[-2]) | (xx>inputPars[-1]))\n",
    "    chi2 += (np.sum(acc[sel_sleep])+np.sum(acc[sel_awake])/3.)/100\n",
    "    #\n",
    "    if len(sel_sleep[0]) < 5.*60: # To prevent too short (<5 hrs) sleeping periods\n",
    "         chi2 = 1e9\n",
    "    return chi2\n",
    "\n",
    "def Chi2(values, model, errors=nan):\n",
    "    if not(errors):\n",
    "        errors = np.ones(len(values))\n",
    "    sel = np.nonzero(model)\n",
    "    return np.sum((values[sel]-model[sel])**2./abs(model[sel]))\n",
    "\n",
    "\n",
    "def retrieveSelection(xx, breaks):\n",
    "    selections = []\n",
    "    selections.append(np.where(xx<breaks[0]))\n",
    "    for ii in np.arange(len(breaks)-1):\n",
    "        selections.append(np.where((xx>=breaks[ii]) & (xx<breaks[ii+1])))\n",
    "    selections.append(np.where(xx>breaks[-1]))\n",
    "    return selections\n",
    "\n",
    "    \n",
    "def gini(list_of_values):\n",
    "    sorted_list = sorted(list_of_values)\n",
    "    height, area = 0, 0\n",
    "    for value in sorted_list:\n",
    "        height += value\n",
    "        area += height - value / 2.\n",
    "    fair_area = height * len(list_of_values) / 2\n",
    "    return (fair_area - area) / fair_area\n",
    "\n",
    "def smooth(x,window_len=11,window='hanning'):\n",
    "    \"\"\"smooth the data using a window with requested size.\n",
    "\n",
    "    This method is based on the convolution of a scaled window with the signal.\n",
    "    The signal is prepared by introducing reflected copies of the signal\n",
    "    (with the window size) in both ends so that transient parts are minimized\n",
    "    in the begining and end part of the output signal.\n",
    "\n",
    "    input:\n",
    "        x: the input signal\n",
    "        window_len: the dimension of the smoothing window; should be an odd integer\n",
    "        window: the type of window from 'flat', 'hanning', 'hamming', 'bartlett', 'blackman'\n",
    "            flat window will produce a moving average smoothing.\n",
    "\n",
    "    output:\n",
    "        the smoothed signal\n",
    "\n",
    "    example:\n",
    "\n",
    "    t=linspace(-2,2,0.1)\n",
    "    x=sin(t)+randn(len(t))*0.1\n",
    "    y=smooth(x)\n",
    "\n",
    "    see also:\n",
    "\n",
    "    numpy.hanning, numpy.hamming, numpy.bartlett, numpy.blackman, numpy.convolve\n",
    "    scipy.signal.lfilter\n",
    "\n",
    "    TODO: the window parameter could be the window itself if an array instead of a string\n",
    "    NOTE: length(output) != length(input), to correct this: return y[(window_len/2-1):-(window_len/2)] instead of just y.\n",
    "    \"\"\"\n",
    "    if x.ndim != 1:\n",
    "        raise ValueError, \"smooth only accepts 1 dimension arrays.\"\n",
    "    if x.size < window_len:\n",
    "        raise ValueError, \"Input vector needs to be bigger than window size.\"\n",
    "    if window_len<3:\n",
    "        return x\n",
    "    if not window in ['flat', 'hanning', 'hamming', 'bartlett', 'blackman']:\n",
    "        raise ValueError, \"Window is on of 'flat', 'hanning', 'hamming', 'bartlett', 'blackman'\"\n",
    "    s=np.r_[x[window_len-1:0:-1],x,x[-1:-window_len:-1]]\n",
    "    #print(len(s))\n",
    "    if window == 'flat': #moving average\n",
    "        w=np.ones(window_len,'d')\n",
    "    else:\n",
    "        w=eval('np.'+window+'(window_len)')\n",
    "    y=np.convolve(w/w.sum(),s,mode='valid')\n",
    "    #return y\n",
    "    return y[(window_len/2-1):-(window_len/2)]"
   ]
  },
  {
   "cell_type": "code",
   "execution_count": 4,
   "metadata": {
    "collapsed": false
   },
   "outputs": [],
   "source": [
    "# Retrieve data\n",
    "fileIn = open('dicDF.dat', 'rb')\n",
    "dicDF = pickle.load(fileIn)\n",
    "fileIn.close()"
   ]
  },
  {
   "cell_type": "code",
   "execution_count": 18,
   "metadata": {
    "collapsed": false
   },
   "outputs": [
    {
     "data": {
      "text/plain": [
       "<matplotlib.axes._subplots.AxesSubplot at 0x108005250>"
      ]
     },
     "execution_count": 18,
     "metadata": {},
     "output_type": "execute_result"
    },
    {
     "data": {
      "image/png": "[encoded data removed]",
      "text/plain": [
       "<matplotlib.figure.Figure at 0x108103a90>"
      ]
     },
     "metadata": {},
     "output_type": "display_data"
    }
   ],
   "source": [
    "dicDF[dicDF.keys()[194]].plot()"
   ]
  },
  {
   "cell_type": "markdown",
   "metadata": {},
   "source": [
    "#### Fit of the profile with the multiple-lines approach"
   ]
  },
  {
   "cell_type": "code",
   "execution_count": 46,
   "metadata": {
    "collapsed": false,
    "scrolled": true
   },
   "outputs": [
    {
     "name": "stdout",
     "output_type": "stream",
     "text": [
      "1 / 208\n",
      "2 / 208\n",
      "3 / 208\n",
      "4 / 208\n",
      "5 / 208\n",
      "6 / 208\n",
      "7 / 208\n",
      "8 / 208\n",
      "9 / 208\n",
      "10 / 208\n",
      "11 / 208\n",
      "12 / 208\n",
      "13 / 208\n",
      "14 / 208\n",
      "15 / 208\n",
      "16 / 208\n",
      "17 / 208\n",
      "18 / 208\n",
      "19 / 208\n",
      "20 / 208\n",
      "21 / 208\n",
      "22 / 208\n",
      "23 / 208\n",
      "24 / 208\n",
      "25 / 208\n",
      "26 / 208\n",
      "27 / 208\n",
      "28 / 208\n",
      "29 / 208\n",
      "30 / 208\n",
      "31 / 208\n",
      "32 / 208\n",
      "33 / 208\n",
      "34 / 208\n",
      "35 / 208\n",
      "36 / 208\n",
      "37 / 208\n",
      "38 / 208\n",
      "39 / 208\n",
      "40 / 208\n",
      "41 / 208\n",
      "42 / 208\n",
      "43 / 208\n",
      "44 / 208\n",
      "45 / 208\n",
      "46 / 208\n",
      "47 / 208\n",
      "48 / 208\n",
      "49 / 208\n",
      "50 / 208\n",
      "51 / 208\n",
      "52 / 208\n",
      "53 / 208\n",
      "54 / 208\n",
      "55 / 208\n",
      "56 / 208\n",
      "57 / 208\n",
      "58 / 208\n",
      "59 / 208\n",
      "60 / 208\n",
      "61 / 208\n",
      "62 / 208\n",
      "63 / 208\n",
      "64 / 208\n",
      "65 / 208\n",
      "66 / 208\n",
      "67 / 208\n",
      "68 / 208\n",
      "69 / 208\n",
      "70 / 208\n",
      "71 / 208\n",
      "72 / 208\n",
      "73 / 208\n",
      "74 / 208\n",
      "75 / 208\n",
      "76 / 208\n",
      "77 / 208\n",
      "78 / 208\n",
      "79 / 208\n",
      "80 / 208\n",
      "81 / 208\n",
      "82 / 208\n",
      "83 / 208\n",
      "84 / 208\n",
      "85 / 208\n",
      "86 / 208\n",
      "87 / 208\n",
      "88 / 208\n",
      "89 / 208\n",
      "90 / 208\n",
      "91 / 208\n",
      "92 / 208\n",
      "93 / 208\n",
      "94 / 208\n",
      "95 / 208\n",
      "96 / 208\n",
      "97 / 208\n",
      "98 / 208\n",
      "99 / 208\n",
      "100 / 208\n",
      "101 / 208\n",
      "102 / 208\n",
      "103 / 208\n",
      "104 / 208\n",
      "105 / 208\n",
      "106 / 208\n",
      "107 / 208\n",
      "108 / 208\n",
      "109 / 208\n",
      "110 / 208\n",
      "111 / 208\n",
      "112 / 208\n",
      "113 / 208\n",
      "114 / 208\n",
      "115 / 208\n",
      "116 / 208\n",
      "117 / 208\n",
      "118 / 208\n",
      "119 / 208\n",
      "120 / 208\n",
      "121 / 208\n",
      "122 / 208\n",
      "123 / 208\n",
      "124 / 208\n",
      "125 / 208\n",
      "126 / 208\n",
      "127 / 208\n",
      "128 / 208\n",
      "129 / 208\n",
      "130 / 208\n",
      "131 / 208\n",
      "132 / 208\n",
      "133 / 208\n",
      "134 / 208\n",
      "135 / 208\n",
      "136 / 208\n",
      "137 / 208\n",
      "138 / 208\n",
      "139 / 208\n",
      "140 / 208\n",
      "141 / 208\n",
      "142 / 208\n",
      "143 / 208\n",
      "144 / 208\n",
      "145 / 208\n",
      "146 / 208\n",
      "147 / 208\n",
      "148 / 208\n",
      "149 / 208\n",
      "150 / 208\n",
      "151 / 208\n",
      "152 / 208\n",
      "153 / 208\n",
      "154 / 208\n",
      "155 / 208\n",
      "156 / 208\n",
      "157 / 208\n",
      "158 / 208\n",
      "159 / 208\n",
      "160 / 208\n",
      "161 / 208\n",
      "162 / 208\n",
      "163 / 208\n",
      "164 / 208\n",
      "165 / 208\n",
      "166 / 208\n",
      "167 / 208\n",
      "168 / 208\n",
      "169 / 208\n",
      "170 / 208\n",
      "171 / 208\n",
      "172 / 208\n",
      "173 / 208\n",
      "174 / 208\n",
      "175 / 208\n",
      "176 / 208\n",
      "177 / 208\n",
      "178 / 208\n",
      "179 / 208\n",
      "180 / 208\n",
      "181 / 208\n",
      "182 / 208\n",
      "183 / 208\n",
      "184 / 208\n",
      "185 / 208\n",
      "186 / 208\n",
      "187 / 208\n",
      "188 / 208\n",
      "189 / 208\n",
      "190 / 208\n",
      "191 / 208\n",
      "192 / 208\n",
      "193 / 208\n",
      "194 / 208\n",
      "195 / 208\n",
      "196 / 208\n",
      "197 / 208\n",
      "198 / 208\n",
      "199 / 208\n",
      "200 / 208\n",
      "201 / 208\n",
      "202 / 208\n",
      "203 / 208\n",
      "204 / 208\n",
      "205 / 208\n",
      "206 / 208\n",
      "207 / 208\n",
      "208 / 208\n"
     ]
    }
   ],
   "source": [
    "counter = 0\n",
    "dicSolution = {}\n",
    "for dicKey in dicDF.keys():\n",
    "    counter += 1; print counter, '/', len(dicDF.keys())\n",
    "    DFtmp = dicDF[dicKey]\n",
    "    \n",
    "    bestChi, outputVar = [], []\n",
    "    \n",
    "    for jj in np.arange(10): # Using 10 different night region guesses. \n",
    "                             # The random distributions are two Gaussians centred at 11pm \n",
    "                             # and 6am, with sigma = 4hrs.\n",
    "        np.random.seed()\n",
    "        t0, t1 = nan, nan\n",
    "\n",
    "        while (not(t0<(t1-5.*60.)) # To force t0 being < t1-5\n",
    "               or t0<400 or t1>1350): # To force t0 and t1 to be in an acceptable range\n",
    "            t0 = np.random.normal(loc=660,scale=4.*60.)\n",
    "            t1 = np.random.normal(loc=1080,scale=4.*60.)\n",
    "\n",
    "        guessNightTime = [t0, t1]\n",
    "        # guessNightTime = [660, 1080] # Minutes of sleeping time (11pm-6am)\n",
    "        # This can be found more efficiently somehow else (e.g. rolling \n",
    "        # Gini coefficient, accelerometer std, ...)\n",
    "        \n",
    "        # Initial guesses\n",
    "\n",
    "#         if np.max(DFtmp['var1']) > 0: # accelerometer data available\n",
    "#             # Applying threshold\n",
    "#             acc_threshold = 50\n",
    "#             selection_acc = np.where(acc<=minAcc)\n",
    "#             xx, yy = np.array(DFtmp.index)[selection_acc], np.array(DFtmp['hb'])[selection_acc]\n",
    "#         else:\n",
    "#             xx, yy = np.array(DFtmp.index), np.array(DFtmp['hb'])\n",
    "        xx, yy, acc = np.array(DFtmp.index), np.array(DFtmp['hb']), np.array(DFtmp['var1'])\n",
    "            \n",
    "        try:\n",
    "            [sel_1, sel_2, sel_3] = retrieveSelection(xx, guessNightTime)\n",
    "\n",
    "            values_line_1 = np.polyfit(xx[sel_1], yy[sel_1], 1)\n",
    "            values_line_2 = np.polyfit(xx[sel_2], yy[sel_2], 1)\n",
    "            values_line_3 = np.polyfit(xx[sel_3], yy[sel_3], 1)\n",
    "\n",
    "\n",
    "            initialGuesses = ([values_line_1[0], values_line_2[0], values_line_3[0],  #m\n",
    "                           values_line_1[1], values_line_2[1], values_line_3[1], #q\n",
    "                       guessNightTime[0], guessNightTime[1]]) #breaks\n",
    "            numberLines = 3\n",
    "\n",
    "            # Pearson's Chi^2 minimization with Nelder-Mead algorithm\n",
    "            solutionTmp = optimize.minimize(measure_chi2_Lines, \n",
    "                                        initialGuesses,\n",
    "                                        args=(xx, yy, numberLines, acc), \n",
    "                                        method='Nelder-Mead', \n",
    "                                        options={'disp':False, \n",
    "                                                 'maxiter':1e5, 'maxfev':1e5})\n",
    "            if solutionTmp.success:\n",
    "                bestChi.append(solutionTmp.fun)\n",
    "                outputVar.append(solutionTmp.x)\n",
    "\n",
    "        except TypeError:\n",
    "            print \"Failed iteration.\"\n",
    "            \n",
    "    dicSolution[dicKey] = [outputVar[np.argmin(bestChi)], bestChi[np.argmin(bestChi)]]"
   ]
  },
  {
   "cell_type": "code",
   "execution_count": 6,
   "metadata": {
    "collapsed": false
   },
   "outputs": [
    {
     "name": "stdout",
     "output_type": "stream",
     "text": [
      "Fileset0_csv/HL118025.csv\n",
      "Fileset0_csv/HL159044.csv\n",
      "Fileset0_csv/HL477022.csv\n",
      "Fileset0_csv/Hl200003.csv\n",
      "Fileset0_csv/HL142044.csv\n",
      "Fileset0_csv/HL484059.csv\n",
      "Fileset0_csv/HL219079.csv\n",
      "Fileset0_csv/HL117063.csv\n",
      "Fileset0_csv/HL148014.csv\n",
      "Fileset0_csv/HL137050.csv\n",
      "Fileset0_csv/K218R1.csv\n",
      "Fileset0_csv/HL135063.csv\n",
      "Fileset0_csv/HL148037.csv\n",
      "Fileset0_csv/BKA00050.csv\n",
      "Fileset0_csv/HL148043.csv\n",
      "Fileset0_csv/HL066036.csv\n",
      "Fileset0_csv/AUP00003.csv\n",
      "Fileset0_csv/HL151058.csv\n",
      "Fileset0_csv/HL268100.csv\n",
      "Fileset0_csv/HL135025.csv\n",
      "Fileset0_csv/AUT00045.csv\n",
      "Fileset0_csv/HL0403-95.csv\n",
      "Fileset0_csv/Hl224031.csv\n",
      "Fileset0_csv/HL135007.csv\n",
      "Fileset0_csv/am300703.csv\n",
      "Fileset0_csv/HL244033.csv\n",
      "Fileset0_csv/HL066045.csv\n",
      "Fileset0_csv/HL490023.csv\n",
      "Fileset0_csv/HL062004.csv\n",
      "Fileset0_csv/HL142045.csv\n",
      "Fileset0_csv/Hl116054.csv\n",
      "Fileset0_csv/HL328018.csv\n",
      "Fileset0_csv/PB220695.csv\n",
      "Fileset0_csv/HL012128.csv\n",
      "Fileset0_csv/HL135022.csv\n",
      "Fileset0_csv/HL135027.csv\n",
      "Fileset0_csv/HL481010.csv\n",
      "Fileset0_csv/HL201055.csv\n",
      "Fileset0_csv/HL152030.csv\n",
      "Fileset0_csv/HL117037.csv\n",
      "Fileset0_csv/Hl219044.csv\n",
      "Fileset0_csv/G072R1.csv\n",
      "Fileset0_csv/HL116039.csv\n",
      "Fileset0_csv/HL066018.csv\n",
      "Fileset0_csv/HL137098.csv\n",
      "Fileset0_csv/HL042104.csv\n",
      "Fileset0_csv/AUM00053.csv\n",
      "Fileset0_csv/HL813090.csv\n",
      "Fileset0_csv/HL148049.csv\n",
      "Fileset0_csv/AUM58.csv\n",
      "Fileset0_csv/HL482046.csv\n",
      "Fileset0_csv/HL484007.csv\n",
      "Fileset0_csv/J208R1.csv\n",
      "Fileset0_csv/Hl497055.csv\n",
      "Fileset0_csv/HL149037.csv\n",
      "Fileset0_csv/HL149044.csv\n",
      "Fileset0_csv/HL1707-9.csv\n",
      "Fileset0_csv/HL195037.csv\n",
      "Fileset0_csv/HL208039.csv\n",
      "Fileset0_csv/HL148046.csv\n",
      "Fileset0_csv/an3.csv\n",
      "Fileset0_csv/HL183063.csv\n",
      "Fileset0_csv/HL171036.csv\n",
      "Fileset0_csv/HL159016.csv\n",
      "Fileset0_csv/PM280703.csv\n",
      "Fileset0_csv/HL066006.csv\n",
      "Fileset0_csv/HL042072.csv\n",
      "Fileset0_csv/HL133007.csv\n",
      "Fileset0_csv/HL148002.csv\n",
      "Fileset0_csv/HL116074.csv\n",
      "Fileset0_csv/HL149050.csv\n",
      "Fileset0_csv/AUL36.csv\n",
      "Fileset0_csv/HL065017.csv\n",
      "Fileset0_csv/AUH38.csv\n",
      "Fileset0_csv/ALC57.csv\n",
      "Fileset0_csv/HL480014.csv\n",
      "Fileset0_csv/HL328033.csv\n",
      "Fileset0_csv/HL484058.csv\n",
      "Fileset0_csv/Hl482018.csv\n",
      "Fileset0_csv/HL149062.csv\n",
      "Fileset0_csv/HL066062.csv\n",
      "Fileset0_csv/HL151084.csv\n",
      "Fileset0_csv/HL171031.csv\n",
      "Fileset0_csv/HL704026.csv\n",
      "Fileset0_csv/HL159051.csv\n",
      "Fileset0_csv/HL148003.csv\n",
      "Fileset0_csv/HL201059.csv\n",
      "Fileset0_csv/HL012158.csv\n",
      "Fileset0_csv/HL135008.csv\n",
      "Fileset0_csv/HL244046.csv\n",
      "Fileset0_csv/HL134008.csv\n",
      "Fileset0_csv/HL149076.csv\n",
      "Fileset0_csv/lb300701.csv\n",
      "Fileset0_csv/depsh.csv\n",
      "Fileset0_csv/kw2806.csv\n",
      "Fileset0_csv/HL1151-41.csv\n",
      "Fileset0_csv/HL149004.csv\n",
      "Fileset0_csv/HL067017.csv\n",
      "Fileset0_csv/HL170002.csv\n",
      "Fileset0_csv/055r2.csv\n",
      "Fileset0_csv/HL116038.csv\n",
      "Fileset0_csv/HL176022.csv\n",
      "Fileset0_csv/HL152026.csv\n",
      "Fileset0_csv/HL042096.csv\n",
      "Fileset0_csv/HL063023.csv\n",
      "Fileset0_csv/HL137034.csv\n",
      "Fileset0_csv/HL065033.csv\n",
      "Fileset0_csv/HL140001.csv\n",
      "Fileset0_csv/AUM00009.csv\n",
      "Fileset0_csv/HL066073.csv\n",
      "Fileset0_csv/HL477024.csv\n",
      "Fileset0_csv/HL135037.csv\n",
      "Fileset0_csv/HL208040.csv\n",
      "Fileset0_csv/HL148011.csv\n",
      "Fileset0_csv/HL137052.csv\n",
      "Fileset0_csv/HL137028.csv\n",
      "Fileset0_csv/HL142018.csv\n",
      "Fileset0_csv/HL137071.csv\n",
      "Fileset0_csv/HL219047.csv\n",
      "Fileset0_csv/HL038056.csv\n",
      "Fileset0_csv/HL137039.csv\n",
      "Fileset0_csv/HL137070.csv\n",
      "Fileset0_csv/HL148013.csv\n",
      "Fileset0_csv/YZ180303.csv\n",
      "Fileset0_csv/HL477036.csv\n",
      "Fileset0_csv/HL137012.csv\n",
      "Fileset0_csv/HL042085.csv\n",
      "Fileset0_csv/HL219077.csv\n",
      "Fileset0_csv/HL137075.csv\n",
      "Fileset0_csv/HL151081.csv\n",
      "Fileset0_csv/HL214031.csv\n",
      "Fileset0_csv/HL244045.csv\n",
      "Fileset0_csv/AUT00014.csv\n",
      "Fileset0_csv/kd030701.csv\n",
      "Fileset0_csv/HL330008.csv\n",
      "Fileset0_csv/HL159040.csv\n",
      "Fileset0_csv/HL141005.csv\n",
      "Fileset0_csv/HL171025.csv\n",
      "Fileset0_csv/HL208067.csv\n",
      "Fileset0_csv/HL217066.csv\n",
      "Fileset0_csv/SL010603.csv\n",
      "Fileset0_csv/Hl497042.csv\n",
      "Fileset0_csv/HL067068.csv\n",
      "Fileset0_csv/HL207021.csv\n",
      "Fileset0_csv/HL042117.csv\n",
      "Fileset0_csv/HL0207-43.csv\n",
      "Fileset0_csv/HL172014.csv\n",
      "Fileset0_csv/HL196071.csv\n",
      "Fileset0_csv/HL116014.csv\n",
      "Fileset0_csv/HL148024.csv\n",
      "Fileset0_csv/Hl200005.csv\n",
      "Fileset0_csv/HL134006.csv\n",
      "Fileset0_csv/AUM56.csv\n",
      "Fileset0_csv/Hl481004.csv\n",
      "Fileset0_csv/HL196078.csv\n",
      "Fileset0_csv/HL137097.csv\n",
      "Fileset0_csv/HL152022.csv\n",
      "Fileset0_csv/HL148044.csv\n",
      "Fileset0_csv/HL171002.csv\n",
      "Fileset0_csv/Hl182042.csv\n",
      "Fileset0_csv/HL066059.csv\n",
      "Fileset0_csv/HL117036.csv\n",
      "Fileset0_csv/HL135014.csv\n",
      "Fileset0_csv/HL116016.csv\n",
      "Fileset0_csv/taj.csv\n",
      "Fileset0_csv/HL066068.csv\n",
      "Fileset0_csv/HL328024.csv\n",
      "Fileset0_csv/HL482015.csv\n",
      "Fileset0_csv/HL159039.csv\n",
      "Fileset0_csv/ALC52.csv\n",
      "Fileset0_csv/HL142004.csv\n",
      "Fileset0_csv/HL244055.csv\n",
      "Fileset0_csv/HL477056.csv\n",
      "Fileset0_csv/HL066038.csv\n",
      "Fileset0_csv/dg170701.csv\n",
      "Fileset0_csv/HL149042.csv\n",
      "Fileset0_csv/HL134005.csv\n",
      "Fileset0_csv/HL146027.csv\n",
      "Fileset0_csv/HL159043.csv\n",
      "Fileset0_csv/AUH76.csv\n",
      "Fileset0_csv/HL482033.csv\n",
      "Fileset0_csv/Hl483020.csv\n",
      "Fileset0_csv/HL482045.csv\n",
      "Fileset0_csv/HL159052.csv\n",
      "Fileset0_csv/HL328036.csv\n",
      "Fileset0_csv/jw1107.csv\n",
      "Fileset0_csv/Hl182031.csv\n",
      "Fileset0_csv/HL484010.csv\n",
      "Fileset0_csv/HL067040.csv\n",
      "Fileset0_csv/LGILL.csv\n",
      "Fileset0_csv/L205R1.csv\n",
      "Fileset0_csv/HL199023.csv\n",
      "Fileset0_csv/HL159047.csv\n",
      "Fileset0_csv/HL196043.csv\n",
      "Fileset0_csv/HL062006.csv\n",
      "Fileset0_csv/HL200030.csv\n",
      "Fileset0_csv/HL065039.csv\n",
      "Fileset0_csv/HL067050.csv\n",
      "Fileset0_csv/2492r1.csv\n",
      "Fileset0_csv/23_1.csv\n",
      "Fileset0_csv/HL151061.csv\n",
      "Fileset0_csv/HL117028.csv\n",
      "Fileset0_csv/HL065027.csv\n",
      "Fileset0_csv/HL066034.csv\n",
      "Fileset0_csv/KH2.csv\n",
      "Fileset0_csv/AUH41.csv\n",
      "Fileset0_csv/HL259102.csv\n",
      "Fileset0_csv/HL648004.csv\n"
     ]
    },
    {
     "name": "stderr",
     "output_type": "stream",
     "text": [
      "/Users/nicola/anaconda/lib/python2.7/site-packages/matplotlib/pyplot.py:424: RuntimeWarning: More than 20 figures have been opened. Figures created through the pyplot interface (`matplotlib.pyplot.figure`) are retained until explicitly closed and may consume too much memory. (To control this warning, see the rcParam `figure.max_open_warning`).\n",
      "  max_open_warning, RuntimeWarning)\n"
     ]
    }
   ],
   "source": [
    "# Creating plots\n",
    "if not(os.path.exists('Plots')):\n",
    "    os.mkdir('Plots')\n",
    "\n",
    "for ii in dicSolution.keys():\n",
    "    print ii\n",
    "    pathOut = 'Plots/'+ii[13:-3]+'pdf'\n",
    "    DFtmp = dicDF[ii]\n",
    "    plt.ioff()\n",
    "    fig = figure(num=0, figsize=(6,5))\n",
    "    clf()\n",
    "    \n",
    "    DFtmp.plot()\n",
    "\n",
    "    plot(xx[sel_1], xx[sel_1]*values_line_1[0]+values_line_1[1], c='m', label='Guess')\n",
    "    plot(xx[sel_2], xx[sel_2]*values_line_2[0]+values_line_2[1], c='m')\n",
    "    plot(xx[sel_3], xx[sel_3]*values_line_3[0]+values_line_3[1], c='m')\n",
    "\n",
    "    solution = dicSolution[ii][0] # Minimization solution\n",
    "    \n",
    "    [sel_1new, sel_2new, sel_3new] = retrieveSelection(xx, [solution[-2], solution[-1]])\n",
    "    plot(xx[sel_1new], xx[sel_1new]*solution[0]+solution[3], c='k', label='Best fit')\n",
    "    plot(xx[sel_2new], xx[sel_2new]*solution[1]+solution[4], c='k')\n",
    "    plot(xx[sel_3new], xx[sel_3new]*solution[2]+solution[5], c='k')\n",
    "    axvline(x=solution[-2], ymin=-30, ymax = 30, linewidth=2, color='k')\n",
    "    axvline(x=solution[-1], ymin=-30, ymax = 30, linewidth=2, color='k')\n",
    "    legend(loc=1, fontsize=8)\n",
    "    ylabel('HB/min'); xlabel('min'); title(r'$\\chi^{2}=$'+str(round(dicSolution[ii][1],2)))\n",
    "    ylim([0,250])\n",
    "    savefig(pathOut, bbox_inches='tight')"
   ]
  },
  {
   "cell_type": "markdown",
   "metadata": {},
   "source": [
    "### Trying to use accelerometer data"
   ]
  },
  {
   "cell_type": "code",
   "execution_count": 116,
   "metadata": {
    "collapsed": false
   },
   "outputs": [],
   "source": [
    "def plotSecondLine(inputArr):\n",
    "    m, q = inputArr[1], inputArr[4]\n",
    "    rr = np.arange(inputArr[6],inputArr[7])\n",
    "    plot(rr, rr*m+q)\n",
    "\n",
    "plt.ion()\n",
    "\n",
    "listBadFit = []\n",
    "ID = []\n",
    "counter = 0\n",
    "for ii in dicDF.keys():\n",
    "    ID.append(ii)\n",
    "    if max(dicDF[ii].var1) > 0:\n",
    "        yy = smooth(dicDF[ii].var1, window_len=60)\n",
    "        # Selecting sleeping region from fit\n",
    "        rr = np.arange(len(yy))\n",
    "        selRegion = np.where((rr<dicSolution[ii][0][7]) & (rr>=dicSolution[ii][0][6]))\n",
    "        acc = np.mean(yy[selRegion])\n",
    "        if acc > 20:\n",
    "#             figure()\n",
    "#             dicDF[ii].plot()\n",
    "#             axvline(dicSolution[ii][0][6]); axvline(dicSolution[ii][0][7])\n",
    "#             plotSecondLine(dicSolution[ii][0]) \n",
    "#             title(acc)\n",
    "            listBadFit.append(True)\n",
    "            counter += 1\n",
    "        else:\n",
    "            listBadFit.append(False)\n",
    "    else:\n",
    "        listBadFit.append(nan)\n",
    "    \n",
    "# ii = dicDF.keys()[20]\n",
    "# dicDF[ii].plot()\n",
    "\n",
    "\n",
    "# axvline(dicSolution[ii][0][6]); axvline(dicSolution[ii][0][7])\n",
    "# # plot(dicDF[ii].var1\n",
    "# plotSecondLine(dicSolution[ii][0]) \n",
    "# plot(yy)"
   ]
  },
  {
   "cell_type": "code",
   "execution_count": 119,
   "metadata": {
    "collapsed": false
   },
   "outputs": [
    {
     "data": {
      "text/plain": [
       "rpy2.rinterface.NULL"
      ]
     },
     "execution_count": 119,
     "metadata": {},
     "output_type": "execute_result"
    }
   ],
   "source": [
    "# Saving bad fit in dataframe (and in R readable format)\n",
    "seriesBadFit = pd.Series(listBadFit)\n",
    "seriesID = pd.Series(ID)\n",
    "\n",
    "dic_badfit = {'ID':seriesID, 'BadFit': seriesBadFit}\n",
    "\n",
    "df_badfit = pd.DataFrame(dic_badfit)\n",
    "import rpy2.robjects as robjects\n",
    "from rpy2.robjects import pandas2ri\n",
    "pandas2ri.activate()\n",
    "\n",
    "## get a reference to the R function \n",
    "write_csv = robjects.r('write.csv')\n",
    "## save \n",
    "write_csv(df_badfit,'BadFit.csv')"
   ]
  },
  {
   "cell_type": "markdown",
   "metadata": {},
   "source": [
    "#### DFA"
   ]
  },
  {
   "cell_type": "code",
   "execution_count": null,
   "metadata": {
    "collapsed": true
   },
   "outputs": [],
   "source": [
    "# Detrended Fluctuation analysis\n",
    "# check tutorial here: http://localhost:8888/notebooks/mdfaintro.ipynb\n",
    "# The closer the result to 0.5, the closer to white noise the profile\n",
    "\n",
    "from pyeeg import *\n",
    "\n",
    "DFA_tot, DFA_sel, DFA_sel_detrended = [], [], []\n",
    "\n",
    "# windowSize = [5,10,15,20,25,50,100,200,300]\n",
    "def getWindowSize(inputArray):\n",
    "    ll = len(inputArray)\n",
    "    return np.logspace(np.log2(ll/5.),np.log2(ll-50.),num=20,base=2.)\n",
    "\n",
    "for ii in np.arange(len(DF)):\n",
    "    xx_ii = np.arange(len(DF.ix[ii].HB))\n",
    "    selSleep_ii = np.where((xx_ii>DF.ix[ii].Sleep+60) &\n",
    "              (xx_ii<=DF.ix[ii].Awake-60))\n",
    "    HB_ii = DF.ix[ii]['HB']\n",
    "    HB_ii_sel = HB_ii[selSleep_ii]\n",
    "    \n",
    "    DFA_tot.append(dfa(HB_ii, L=getWindowSize(HB_ii)))\n",
    "    DFA_sel.append(dfa(HB_ii_sel, L=getWindowSize(HB_ii_sel)))#,10,15,20,25,50,100,200,300]))\n",
    "    \n",
    "    yy_ii = xx_ii*DF.ix[ii].Slope + DF.ix[ii].intercept\n",
    "    HB_ii_sel_detrended = (HB_ii/yy_ii)[selSleep_ii]\n",
    "    \n",
    "    DFA_sel_detrended.append(dfa(HB_ii_sel_detrended, L=getWindowSize(HB_ii_sel_detrended)))#,10,15,20,25,50,100,200,300]))\n",
    "    \n"
   ]
  },
  {
   "cell_type": "code",
   "execution_count": 11,
   "metadata": {
    "collapsed": false
   },
   "outputs": [
    {
     "data": {
      "image/png": "[encoded data removed]",
      "text/plain": [
       "<matplotlib.figure.Figure at 0x140bce3d0>"
      ]
     },
     "metadata": {},
     "output_type": "display_data"
    },
    {
     "data": {
      "image/png": "[encoded data removed]",
      "text/plain": [
       "<matplotlib.figure.Figure at 0x141e5c110>"
      ]
     },
     "metadata": {},
     "output_type": "display_data"
    }
   ],
   "source": [
    "# Creating histograms and preparing dataframe\n",
    "slope_2 = []\n",
    "intercept_2 = []\n",
    "sleepingtime = []\n",
    "awakingtime = []\n",
    "chi2 = []\n",
    "for ii in dicSolution.keys():\n",
    "    slope_2.append(dicSolution[ii][0][1])\n",
    "    intercept_2.append(dicSolution[ii][0][4])\n",
    "    sleepingtime.append(dicSolution[ii][0][6])\n",
    "    awakingtime.append(dicSolution[ii][0][7])\n",
    "    chi2.append(dicSolution[ii][1])\n",
    "\n",
    "# Plot\n",
    "plt.ion()\n",
    "figure(0)\n",
    "clf()\n",
    "hh = hist(slope_2, 50)\n",
    "xlabel('Slope'); ylabel('N')\n",
    "\n",
    "figure(num=1, figsize=(12,5))\n",
    "ax1, ax2 = subplot(121), subplot(122)\n",
    "hh_sleep = ax1.hist(sleepingtime, 50); ax1.set_xlabel('Sleeping time'); ax1.set_ylabel('N')\n",
    "hh_awake = ax2.hist(awakingtime, 50); ax2.set_xlabel('Awakening time'); ax2.set_ylabel('N')\n",
    "\n",
    "\n",
    "\n",
    "# SAVE Slopes as pandas DF -> csv\n",
    "\n",
    "seriesSleepTime_fit = pd.Series(sleepingtime)\n",
    "seriesAwakeTime_fit = pd.Series(awakingtime)\n",
    "seriesSlope_fit = pd.Series(slope_2)\n",
    "seriesIntercept_fit = pd.Series(intercept_2)\n",
    "seriesID = pd.Series(dicSolution.keys())\n",
    "seriesChi2 = pd.Series(chi2)\n",
    "#seriesSolution = pd.Series(dicSolution, dtype='object')\n",
    "\n",
    "dic_fit = {'ID':seriesID, 'Slope': seriesSlope_fit, 'Intercept': seriesIntercept_fit, \n",
    "           'SleepTime': seriesSleepTime_fit, 'AwakeTime': seriesAwakeTime_fit, \n",
    "           'Chi2':seriesChi2\n",
    "          }\n",
    "\n",
    "df_fit = pd.DataFrame(dic_fit)    "
   ]
  },
  {
   "cell_type": "code",
   "execution_count": 14,
   "metadata": {
    "collapsed": false
   },
   "outputs": [],
   "source": [
    "import rpy2.robjects as robjects\n",
    "from rpy2.robjects import pandas2ri\n",
    "pandas2ri.activate()\n",
    "\n",
    "# Save series of slopes as .csv\n",
    "write_csv = robjects.r('write.csv')\n",
    "write_csv(df_fit,'Fit.csv')\n",
    "\n",
    "# Save everything into pickle data file\n",
    "outFile = open('fitData.dat', 'wb')\n",
    "pickle.dump(dic_fit, outFile)\n",
    "outFile.close()"
   ]
  },
  {
   "cell_type": "markdown",
   "metadata": {},
   "source": [
    "#### Example of issue with sleeping/awakening time"
   ]
  },
  {
   "cell_type": "code",
   "execution_count": 286,
   "metadata": {
    "collapsed": false
   },
   "outputs": [
    {
     "name": "stdout",
     "output_type": "stream",
     "text": [
      "Optimization terminated successfully.\n",
      "         Current function value: 635.157296\n",
      "         Iterations: 2316\n",
      "         Function evaluations: 3724\n"
     ]
    },
    {
     "data": {
      "text/plain": [
       "<matplotlib.text.Text at 0x17b8f1c10>"
      ]
     },
     "execution_count": 286,
     "metadata": {},
     "output_type": "execute_result"
    },
    {
     "data": {
      "text/plain": [
       "<matplotlib.figure.Figure at 0x17bcbd590>"
      ]
     },
     "metadata": {},
     "output_type": "display_data"
    },
    {
     "data": {
      "image/png": "[encoded data removed]",
      "text/plain": [
       "<matplotlib.figure.Figure at 0x17bcbdcd0>"
      ]
     },
     "metadata": {},
     "output_type": "display_data"
    }
   ],
   "source": [
    "DFtmp = dicDF['Fileset0_csv/KH2.csv']\n",
    "   \n",
    "    # Initial guesses\n",
    "xx, yy, acc = np.array(DFtmp.index), np.array(DFtmp['hb']), np.array(DFtmp['var1'])\n",
    "guessNightTime = [400, 900] \n",
    "\n",
    "guessNightTime = [660, 1080]# Minutes of sleeping time (11pm-6am)\n",
    "# This can be found more efficiently somehow else (e.g. rolling \n",
    "# Gini coefficient, accelerometer std, ...)\n",
    "\n",
    "[sel_1, sel_2, sel_3] = retrieveSelection(xx, guessNightTime)\n",
    "\n",
    "values_line_1 = np.polyfit(xx[sel_1], yy[sel_1], 1)\n",
    "values_line_2 = np.polyfit(xx[sel_2], yy[sel_2], 1)\n",
    "values_line_3 = np.polyfit(xx[sel_3], yy[sel_3], 1)\n",
    "\n",
    "\n",
    "initialGuesses = ([values_line_1[0], values_line_2[0], values_line_3[0],  #m\n",
    "                   values_line_1[1], values_line_2[1], values_line_3[1], #q\n",
    "                   guessNightTime[0], guessNightTime[1]]) #breaks\n",
    "numberLines = 3\n",
    "    \n",
    "    # Pearson's Chi^2 minimization with Nelder-Mead algorithm\n",
    "\n",
    "solution = optimize.minimize(measure_chi2_Lines, \n",
    "                                initialGuesses,\n",
    "                                args=(xx,yy, numberLines, acc), \n",
    "                                method='Nelder-Mead', \n",
    "                                options={'disp':True, \n",
    "                                         'maxiter':1e5, 'maxfev':1e5, \n",
    "                                        'xtol':1e-9})\n",
    "\n",
    "plt.ion()\n",
    "figure(1)\n",
    "plt.clf()\n",
    "DFtmp.plot()\n",
    "plot(xx[sel_1], xx[sel_1]*values_line_1[0]+values_line_1[1], c='m', label='Guess')\n",
    "plot(xx[sel_2], xx[sel_2]*values_line_2[0]+values_line_2[1], c='m')\n",
    "plot(xx[sel_3], xx[sel_3]*values_line_3[0]+values_line_3[1], c='m')\n",
    "\n",
    "[sel_1new, sel_2new, sel_3new] = retrieveSelection(xx, [solution.x[-2], solution.x[-1]])\n",
    "plot(xx[sel_1new], xx[sel_1new]*solution.x[0]+solution.x[3], c='g', label='Best fit')\n",
    "plot(xx[sel_2new], xx[sel_2new]*solution.x[1]+solution.x[4], c='y')\n",
    "plot(xx[sel_3new], xx[sel_3new]*solution.x[2]+solution.x[5], c='k')\n",
    "legend(loc=3)\n",
    "ylabel('HB/min'); xlabel('min'); title(r'$\\chi^{2}=$'+str(round(solution.fun,2)))\n",
    "     "
   ]
  },
  {
   "cell_type": "markdown",
   "metadata": {},
   "source": [
    "#### Measuring the inequality within the sleeping time and look for correlations with the profile's slope"
   ]
  },
  {
   "cell_type": "code",
   "execution_count": 288,
   "metadata": {
    "collapsed": false
   },
   "outputs": [],
   "source": [
    "listGini, listSlopes, listStd, listStdDiff, ID = [], [], [], [], []\n",
    "for ii in dicDF.keys(): \n",
    "    ID.append(ii)\n",
    "    df_tmp = df_fit.loc[df_fit['ID'] == ii]\n",
    "    t0, t1 = int(round(df_tmp['SleepTime'])), int(round(df_tmp['AwakeTime']))\n",
    "    sleepProfile = dicDF[ii]['hb'][t0:t1]\n",
    "    \n",
    "    mm, qq = dicSolution[ii][0][1], dicSolution[ii][0][4]\n",
    "    bestfit_line = np.arange(t0,t1)*mm+qq\n",
    "    normSleepProfile = sleepProfile / bestfit_line\n",
    "    \n",
    "    listGini.append(gini(normSleepProfile))\n",
    "    listSlopes.append(mm)\n",
    "    listStd.append(std(normSleepProfile))\n",
    "    \n",
    "    # Measuring the scatter of the minute-variability array\n",
    "    listDiff = []\n",
    "    for jj in np.arange(t0, t1-1):\n",
    "        listDiff.append(dicDF[ii]['hb'][jj+1]-dicDF[ii]['hb'][jj])\n",
    "    \n",
    "    listStdDiff.append(np.std(listDiff)) "
   ]
  },
  {
   "cell_type": "code",
   "execution_count": 163,
   "metadata": {
    "collapsed": false
   },
   "outputs": [
    {
     "data": {
      "text/plain": [
       "rpy2.rinterface.NULL"
      ]
     },
     "execution_count": 163,
     "metadata": {},
     "output_type": "execute_result"
    }
   ],
   "source": [
    "# Creating dataframe with slope and stuff\n",
    "seriesSlope = pd.Series(listSlopes)\n",
    "seriesID = pd.Series(ID)\n",
    "seriesGini = pd.Series(listGini)\n",
    "seriesStd = pd.Series(listStd)\n",
    "seriesStdDiff = pd.Series(listStdDiff)\n",
    "\n",
    "dic_slope = {'ID':seriesID, 'Slope': seriesSlope, \n",
    "           'Gini': seriesGini, 'Std': seriesStd, 'StdDiff':seriesStdDiff}\n",
    "\n",
    "df_slope = pd.DataFrame(dic_slope)  \n",
    "\n",
    "import rpy2.robjects as robjects\n",
    "from rpy2.robjects import pandas2ri\n",
    "pandas2ri.activate()\n",
    "\n",
    "## get a reference to the R function \n",
    "write_csv = robjects.r('write.csv')\n",
    "## save \n",
    "write_csv(df_slope,'fit.csv')"
   ]
  },
  {
   "cell_type": "code",
   "execution_count": 155,
   "metadata": {
    "collapsed": false
   },
   "outputs": [
    {
     "data": {
      "text/plain": [
       "<matplotlib.text.Text at 0x10eb03990>"
      ]
     },
     "execution_count": 155,
     "metadata": {},
     "output_type": "execute_result"
    },
    {
     "data": {
      "image/png": "[encoded data removed]",
      "text/plain": [
       "<matplotlib.figure.Figure at 0x1126b2410>"
      ]
     },
     "metadata": {},
     "output_type": "display_data"
    }
   ],
   "source": [
    "scatter(listSlopes, listStdDiff)\n",
    "xlabel('Slope'); ylabel('STD_diff')"
   ]
  },
  {
   "cell_type": "markdown",
   "metadata": {},
   "source": [
    "### TESTING"
   ]
  },
  {
   "cell_type": "code",
   "execution_count": 149,
   "metadata": {
    "collapsed": false
   },
   "outputs": [
    {
     "name": "stdout",
     "output_type": "stream",
     "text": [
      "1.68127699937\n"
     ]
    },
    {
     "data": {
      "image/png": "[encoded data removed]",
      "text/plain": [
       "<matplotlib.figure.Figure at 0x1132b1490>"
      ]
     },
     "metadata": {},
     "output_type": "display_data"
    }
   ],
   "source": [
    "# Checking the differences between different minute's \n",
    "# measurements as an estimation for the sleeping time\n",
    "ii = dicDF.keys()[99]\n",
    "listDiff = []\n",
    "for jj in np.arange(len(dicDF[ii]['hb'])-1):\n",
    "        listDiff.append(dicDF[ii]['hb'][jj+1]-dicDF[ii]['hb'][jj])\n",
    "        \n",
    "plot(listDiff)\n",
    "plot(dicDF[ii]['hb']*10/np.median(dicDF[ii]['hb']))\n",
    "sleep = float(df_fit.loc[df_fit['ID'] == ii]['SleepTime'])\n",
    "awake = float(df_fit.loc[df_fit['ID'] == ii]['AwakeTime'])\n",
    "axvline(x=sleep, ymin=-30, ymax = 30, linewidth=2, color='k')\n",
    "axvline(x=awake, ymin=-30, ymax = 30, linewidth=2, color='k')\n",
    "print std(dicDF[ii]['hb']*10/np.median(dicDF[ii]['hb']))"
   ]
  },
  {
   "cell_type": "code",
   "execution_count": 213,
   "metadata": {
    "collapsed": false
   },
   "outputs": [
    {
     "data": {
      "text/plain": [
       "<matplotlib.legend.Legend at 0x13a160e10>"
      ]
     },
     "execution_count": 213,
     "metadata": {},
     "output_type": "execute_result"
    },
    {
     "data": {
      "image/png": "[encoded data removed]",
      "text/plain": [
       "<matplotlib.figure.Figure at 0x12117a450>"
      ]
     },
     "metadata": {},
     "output_type": "display_data"
    }
   ],
   "source": [
    "# Fitting slope histogram with Gaussian mixture model\n",
    "from sklearn import mixture\n",
    "from sklearn.mixture import GMM\n",
    "np.random.seed(1)\n",
    "\n",
    "X = np.array(slope_2)\n",
    "X = X.reshape(-1, 1)\n",
    "\n",
    "# fit models with 1-10 components\n",
    "N = np.arange(1,11)\n",
    "models = [None for ii in range(len(N))]\n",
    "\n",
    "for ii in range(len(N)):\n",
    "    models[ii] = mixture.GMM(n_components=N[ii]).fit(X)\n",
    "    \n",
    "# compute the AIC and the BIC\n",
    "AIC = [mm.aic(X) for mm in models]\n",
    "BIC = [mm.bic(X) for mm in models]\n",
    "\n",
    "#------------------------------------------------------------\n",
    "# Plot the results\n",
    "#  We'll use three panels:\n",
    "#   1) data + best-fit mixture\n",
    "#   2) AIC and BIC vs number of components\n",
    "#   3) probability that a point came from each component\n",
    "plt.ion()\n",
    "fig = plt.figure(figsize=(12, 5))\n",
    "fig.subplots_adjust(left=0.12, right=0.97,\n",
    "                    bottom=0.21, top=0.9, wspace=0.5)\n",
    "\n",
    "# # plot 1: data + best-fit mixture\n",
    "ax = fig.add_subplot(121)\n",
    "M_best = models[np.argmin(AIC)]\n",
    "\n",
    "x = np.transpose(np.linspace(-0.15, 0.1, len(X)))\n",
    "x = x.reshape(-1, 1)\n",
    "\n",
    "\n",
    "logprob, responsibilities = M_best.score_samples(x)\n",
    "\n",
    "pdf = np.exp(logprob)\n",
    "pdf_individual = responsibilities * pdf[:, np.newaxis]\n",
    "\n",
    "\n",
    "ax.hist(X, 30, normed=True, histtype='stepfilled', alpha=0.4)\n",
    "ax.plot(x, pdf, '-k')\n",
    "ax.plot(x, pdf_individual, '--k')\n",
    "ax.text(0.04, 0.96, \"Best-fit Mixture\",\n",
    "        ha='left', va='top', transform=ax.transAxes)\n",
    "ax.set_xlabel('$x$')\n",
    "ax.set_ylabel('$p(x)$')\n",
    "\n",
    "\n",
    "# plot 2: AIC and BIC\n",
    "ax = fig.add_subplot(122)\n",
    "ax.plot(N, AIC, '-k', label='AIC')\n",
    "ax.plot(N, BIC, '--k', label='BIC')\n",
    "ax.set_xlabel('n. components')\n",
    "ax.set_ylabel('information criterion')\n",
    "ax.legend(loc=2)\n",
    "\n",
    "\n",
    "# NOT ABLE TO FIT WITH MULTIPLE GAUSSIANS"
   ]
  },
  {
   "cell_type": "code",
   "execution_count": null,
   "metadata": {
    "collapsed": false
   },
   "outputs": [],
   "source": [
    "# Fit with multiple lines and extract chi^2 with brute-force algorithm\n",
    "# Pearson's Chi^2 minimization with Nelder-Mead algorithm\n",
    "\n",
    "ranges = [slice(-0.5,0.5, 0.1), slice(-0.5,0.5, 0.1), slice(-0.5,0.5, 0.1),\n",
    "          slice(40,100, 5), slice(40,100, 5), slice(40,100, 5),\n",
    "          slice(600,720,5), slice(1000,1260,5) \n",
    "         ]\n",
    "\n",
    "solution = optimize.brute(measure_chi2_Lines, \n",
    "                          ranges,\n",
    "                          args=(xx, yy, numberLines),\n",
    "                          Ns=200 #Number points\n",
    "                        #,disp=True\n",
    "                        #,full_output=True\n",
    "                         )\n",
    "                           \n",
    "# DFtmp.plot()\n",
    "\n",
    "# plot(xx[sel_1], xx[sel_1]*values_line_1[0]+values_line_1[1], c='r')\n",
    "# plot(xx[sel_2], xx[sel_2]*values_line_2[0]+values_line_2[1], c='r')\n",
    "# plot(xx[sel_3], xx[sel_3]*values_line_3[0]+values_line_3[1], c='r')\n",
    "\n",
    "\n",
    "# # SOLUTION\n",
    "# print solution\n",
    "\n",
    "# [sel_1new, sel_2new, sel_3new] = retrieveSelection(xx, [solution.x[-2], solution.x[-1]])\n",
    "# plot(xx[sel_1new], xx[sel_1new]*solution.x[0]+solution.x[3], c='k')\n",
    "# plot(xx[sel_2new], xx[sel_2new]*solution.x[1]+solution.x[4], c='k')\n",
    "# plot(xx[sel_3new], xx[sel_3new]*solution.x[2]+solution.x[5], c='k')"
   ]
  },
  {
   "cell_type": "code",
   "execution_count": 124,
   "metadata": {
    "collapsed": false
   },
   "outputs": [
    {
     "data": {
      "text/plain": [
       "  status: 1\n",
       "    nfev: 100000\n",
       " success: False\n",
       "     fun: 426970.3873590742\n",
       "       x: array([  0.00000000e+00,  -2.00000000e-01,   0.00000000e+00,\n",
       "         1.20000000e+02,   1.89000000e+02,   1.20000000e+02,\n",
       "         5.00000000e+02,   1.20000000e+03])\n",
       " message: 'Maximum number of function evaluations has been exceeded.'\n",
       "     nit: 35609"
      ]
     },
     "execution_count": 124,
     "metadata": {},
     "output_type": "execute_result"
    }
   ],
   "source": [
    "solution"
   ]
  },
  {
   "cell_type": "code",
   "execution_count": null,
   "metadata": {
    "collapsed": true
   },
   "outputs": [],
   "source": [
    "# Smooth data and try to fit it again"
   ]
  }
 ],
 "metadata": {
  "kernelspec": {
   "display_name": "Python 2",
   "language": "python",
   "name": "python2"
  },
  "language_info": {
   "codemirror_mode": {
    "name": "ipython",
    "version": 2
   },
   "file_extension": ".py",
   "mimetype": "text/x-python",
   "name": "python",
   "nbconvert_exporter": "python",
   "pygments_lexer": "ipython2",
   "version": "2.7.10"
  }
 },
 "nbformat": 4,
 "nbformat_minor": 0
}
