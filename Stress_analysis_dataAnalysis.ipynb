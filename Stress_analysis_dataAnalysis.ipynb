{
 "cells": [
  {
   "cell_type": "markdown",
   "metadata": {},
   "source": [
    "### Algorithm for the analysis of the Medibio's ECG file set. "
   ]
  },
  {
   "cell_type": "markdown",
   "metadata": {},
   "source": [
    "###### written by Nicola Pastorello 19/0/2015"
   ]
  },
  {
   "cell_type": "code",
   "execution_count": 4,
   "metadata": {
    "collapsed": true
   },
   "outputs": [],
   "source": [
    "%matplotlib inline\n",
    "# Loading libraries\n",
    "import numpy as np\n",
    "import pandas as pd\n",
    "import datetime, pickle\n",
    "import os, glob, sys\n",
    "from pylab import *\n"
   ]
  },
  {
   "cell_type": "code",
   "execution_count": 5,
   "metadata": {
    "collapsed": true
   },
   "outputs": [],
   "source": [
    "# Functions\n",
    "def findCharPos(stringInput, c=' '):\n",
    "    for ii in np.arange(len(stringInput)):\n",
    "        if stringInput[ii] == c:\n",
    "            return ii, stringInput[:ii]\n",
    "    return False\n",
    "\n",
    "def rollingMean(values, binSize=1):\n",
    "    listMean = []\n",
    "    for ii in np.arange(len(values)-binSize+1):\n",
    "        listMean.append(np.mean(values[ii:ii+binSize]))\n",
    "    return np.array(listMean)\n",
    "    \n",
    "def rollingStd(values, binSize=1):\n",
    "    listStd = []\n",
    "    for ii in np.arange(len(values)-binSize+1):\n",
    "        listStd.append(np.std(values[ii:ii+binSize]))\n",
    "    return np.array(listStd)\n",
    "    \n",
    "def gini(list_of_values):\n",
    "    sorted_list = sorted(list_of_values)\n",
    "    height, area = 0, 0\n",
    "    for value in sorted_list:\n",
    "        height += value\n",
    "        area += height - value / 2.\n",
    "    fair_area = height * len(list_of_values) / 2\n",
    "    return (fair_area - area) / fair_area\n",
    "\n",
    "\n",
    "def rollingGini(values, binSize=1):\n",
    "    listStd = []\n",
    "    for ii in np.arange(len(values)-binSize+1):\n",
    "        listStd.append(gini(values[ii:ii+binSize]))\n",
    "    return np.array(listStd)"
   ]
  },
  {
   "cell_type": "code",
   "execution_count": 6,
   "metadata": {
    "collapsed": false
   },
   "outputs": [],
   "source": [
    "# Extract input\n",
    "fileIn = open('dicDF.dat', 'rb')\n",
    "dicDF = pickle.load(fileIn)\n",
    "fileIn.close()"
   ]
  },
  {
   "cell_type": "code",
   "execution_count": null,
   "metadata": {
    "collapsed": true
   },
   "outputs": [],
   "source": [
    "# Rolling standard deviation \n",
    "#std(dfTmp)\n",
    "# Rolling mean\n",
    "binSize = 60 # A hour bin\n",
    "\n",
    "plot(dfTmp['time'][:-binSize+1], \n",
    "     dfTmp['hb'][:-binSize+1]-rollingMean(dfTmp['hb'], binSize=binSize), \n",
    "     color='k')\n",
    "plot(dfTmp['time'], dfTmp['hb'])\n",
    "\n",
    "rStd = rollingStd(dfTmp['hb'], binSize=binSize)\n",
    "\n",
    "plot(dfTmp['time'][:-binSize+1], rStd, c='r')"
   ]
  },
  {
   "cell_type": "code",
   "execution_count": null,
   "metadata": {
    "collapsed": true
   },
   "outputs": [],
   "source": [
    "\n",
    "rGini = rollingGini(dfTmp['hb'], binSize=binSize)\n",
    "plot(dfTmp['time'][:-binSize+1], rGini, c='r')"
   ]
  }
 ],
 "metadata": {
  "kernelspec": {
   "display_name": "Python 2",
   "language": "python",
   "name": "python2"
  },
  "language_info": {
   "codemirror_mode": {
    "name": "ipython",
    "version": 2
   },
   "file_extension": ".py",
   "mimetype": "text/x-python",
   "name": "python",
   "nbconvert_exporter": "python",
   "pygments_lexer": "ipython2",
   "version": "2.7.10"
  }
 },
 "nbformat": 4,
 "nbformat_minor": 0
}
