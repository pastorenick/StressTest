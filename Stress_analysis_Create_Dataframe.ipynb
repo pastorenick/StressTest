{
 "cells": [
  {
   "cell_type": "markdown",
   "metadata": {},
   "source": [
    "### Collect the various outputs and build up a total dataframe"
   ]
  },
  {
   "cell_type": "markdown",
   "metadata": {},
   "source": [
    "###### written by Nicola Pastorello 30/10/2015"
   ]
  },
  {
   "cell_type": "code",
   "execution_count": 4,
   "metadata": {
    "collapsed": true
   },
   "outputs": [],
   "source": [
    "%matplotlib inline\n",
    "# Loading libraries\n",
    "import numpy as np\n",
    "import pandas as pd\n",
    "import datetime, pickle\n",
    "import os, glob, sys\n",
    "from pylab import *\n",
    "from scipy import signal, misc, optimize"
   ]
  },
  {
   "cell_type": "code",
   "execution_count": 8,
   "metadata": {
    "collapsed": false
   },
   "outputs": [],
   "source": [
    "# Retrieve data\n",
    "fileIn = open('dicDF.dat', 'rb')\n",
    "dicDF = pickle.load(fileIn)\n",
    "fileIn.close()\n",
    "\n",
    "\n",
    "fileIn = open('fitData.dat', 'rb')   #DATA FITTED WITH THREE LINES FROM ipython notebook\n",
    "dicFit = pickle.load(fileIn)\n",
    "fileIn.close()"
   ]
  },
  {
   "cell_type": "code",
   "execution_count": 13,
   "metadata": {
    "collapsed": false
   },
   "outputs": [],
   "source": [
    "# Retrieve fitted parameters\n",
    "['Slope', 'SleepTime', 'Chi2', 'AwakeTime', 'Intercept', 'ID']\n",
    "\n",
    "slope, intercept, chi2, ID_fit, sleepT, awakeT = [], [], [], [], [], []\n",
    "\n",
    "for ii in np.arange(len(dicFit['AwakeTime'])):    \n",
    "    ID_fit.append(dicFit['ID'][ii])\n",
    "    slope.append(dicFit['Slope'][ii])\n",
    "    intercept.append(dicFit['Intercept'][ii])\n",
    "    chi2.append(dicFit['Chi2'][ii])\n",
    "    sleepT.append(dicFit['SleepTime'][ii])\n",
    "    awakeT.append(dicFit['AwakeTime'][ii])\n",
    "    \n",
    "\n",
    "Series_IDfit = pd.Series(ID_fit)\n",
    "Series_slope = pd.Series(slope)\n",
    "Series_intercept = pd.Series(intercept)\n",
    "Series_chi2 = pd.Series(chi2)\n",
    "Series_sleepT = pd.Series(sleepT)\n",
    "Series_awakeT = pd.Series(awakeT)"
   ]
  },
  {
   "cell_type": "code",
   "execution_count": 14,
   "metadata": {
    "collapsed": true
   },
   "outputs": [],
   "source": [
    "# Retrieve original profiles data\n",
    "ID, time, HB, acc, disconnections = [], [], [], [], []\n",
    "for ii in dicDF.keys():\n",
    "    ID.append(ii[13:-4])\n",
    "    time.append(np.array(dicDF[ii]['time']))\n",
    "    HB.append(np.array(dicDF[ii]['hb']))\n",
    "    acc.append(np.array(dicDF[ii]['var1']))\n",
    "    disconnections.append(np.array(dicDF[ii]['var2']))\n",
    "\n",
    "Series_ID = pd.Series(ID)\n",
    "Series_HB = pd.Series(np.transpose(HB), dtype=np.dtype(\"object\"))\n",
    "Series_time = pd.Series(time, dtype=np.dtype(\"object\"))\n",
    "Series_acc = pd.Series(acc, dtype=np.dtype(\"object\"))\n",
    "Series_disconnections = pd.Series(disconnections, dtype=np.dtype(\"object\"))"
   ]
  },
  {
   "cell_type": "code",
   "execution_count": 15,
   "metadata": {
    "collapsed": false
   },
   "outputs": [],
   "source": [
    "# Build single dataframe\n",
    "\n",
    "dic_final = {'ID':Series_ID, 'HB':Series_HB, 'time':Series_time, \n",
    "             'acc':Series_acc, 'disconnections':Series_disconnections, \n",
    "             'Slope': Series_slope, 'intercept':Series_intercept, 'chi2': Series_chi2, \n",
    "             'Sleep': Series_sleepT, 'Awake': Series_awakeT, }\n",
    "\n",
    "df_final = pd.DataFrame(dic_final) "
   ]
  },
  {
   "cell_type": "code",
   "execution_count": 16,
   "metadata": {
    "collapsed": false
   },
   "outputs": [],
   "source": [
    "# Adding labels\n",
    "labelDF = pd.read_csv('FileSet0.stressRatings.csv')\n",
    "labelDF.columns = ['HLcode', 'Stress']\n",
    "# Inner join\n",
    "mergedDF = pd.merge(left=df_final, right=labelDF, \n",
    "                  left_on='ID', right_on='HLcode', how='left')"
   ]
  },
  {
   "cell_type": "code",
   "execution_count": 17,
   "metadata": {
    "collapsed": false
   },
   "outputs": [
    {
     "data": {
      "text/plain": [
       "rpy2.rinterface.NULL"
      ]
     },
     "execution_count": 17,
     "metadata": {},
     "output_type": "execute_result"
    }
   ],
   "source": [
    "# Saving\n",
    "fileOut = open('totDF.dat', 'wb')\n",
    "pickle.dump(mergedDF, fileOut)\n",
    "fileOut.close()\n",
    "\n",
    "# Save DF as as .csv\n",
    "import rpy2.robjects as robjects\n",
    "from rpy2.robjects import pandas2ri\n",
    "pandas2ri.activate()\n",
    "write_csv = robjects.r('write.csv')\n",
    "write_csv(mergedDF,'totDF.csv')"
   ]
  }
 ],
 "metadata": {
  "kernelspec": {
   "display_name": "Python 2",
   "language": "python",
   "name": "python2"
  },
  "language_info": {
   "codemirror_mode": {
    "name": "ipython",
    "version": 2
   },
   "file_extension": ".py",
   "mimetype": "text/x-python",
   "name": "python",
   "nbconvert_exporter": "python",
   "pygments_lexer": "ipython2",
   "version": "2.7.10"
  }
 },
 "nbformat": 4,
 "nbformat_minor": 0
}
