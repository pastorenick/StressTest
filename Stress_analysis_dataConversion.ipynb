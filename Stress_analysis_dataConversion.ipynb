{
 "cells": [
  {
   "cell_type": "markdown",
   "metadata": {},
   "source": [
    "### Algorithm for the conversion of the Medibio's ECG file set into .csv files"
   ]
  },
  {
   "cell_type": "markdown",
   "metadata": {},
   "source": [
    "###### written by Nicola Pastorello 19/0/2015"
   ]
  },
  {
   "cell_type": "code",
   "execution_count": 23,
   "metadata": {
    "collapsed": false
   },
   "outputs": [],
   "source": [
    "%matplotlib inline\n",
    "# Loading libraries\n",
    "import numpy as np\n",
    "import pandas as pd\n",
    "import datetime, pickle\n",
    "import os, glob, sys\n",
    "from pylab import *\n"
   ]
  },
  {
   "cell_type": "code",
   "execution_count": 2,
   "metadata": {
    "collapsed": false
   },
   "outputs": [],
   "source": [
    "# Functions\n",
    "def findCharPos(stringInput, c=' '):\n",
    "    for ii in np.arange(len(stringInput)):\n",
    "        if stringInput[ii] == c:\n",
    "            return ii, stringInput[:ii]\n",
    "    return False\n",
    "\n",
    "def removeFChar(stringInput, cc): #Remove extra characters at the end\n",
    "    for ii in np.arange(len(stringInput)-1, -1, -1):\n",
    "        if stringInput[ii] != cc:\n",
    "            return stringInput[:ii+1]"
   ]
  },
  {
   "cell_type": "code",
   "execution_count": 16,
   "metadata": {
    "collapsed": false
   },
   "outputs": [],
   "source": [
    "# Loading data and saving as csv files\n",
    "\n",
    "if not(os.path.exists('Fileset0_csv')):\n",
    "    os.mkdir('Fileset0_csv')\n",
    "\n",
    "listFiles = glob.glob('Fileset0/*.txt')\n",
    "#dicTot = {}\n",
    "listFail = []\n",
    "for ii in listFiles:\n",
    "    try:\n",
    "        fileIn = open(ii, 'rb'); f = fileIn.read(); fileIn.close()\n",
    "        ID = findCharPos(f, c='\\t')[1]\n",
    "#        # Check if ID also in file name\n",
    "#        checkID = False\n",
    "#        if ID in ii: checkID = True\n",
    "#        if not(checkID): raise ValueError('ID not matching with filename')\n",
    "            \n",
    "        # Position of first row\n",
    "        posFirstRow = findCharPos(f, c=':')[0]-2\n",
    "            \n",
    "        # Reading line by line and storing it to list\n",
    "        listRows, listTmp = ['time,hb,var1,var2'], []\n",
    "        for jj in np.arange(len(f)-posFirstRow):\n",
    "            if f[posFirstRow+jj] == '\\t':\n",
    "                listTmp.append(',')\n",
    "            elif (f[posFirstRow+jj] != '\\r') and (f[posFirstRow+jj] != '\\n'):\n",
    "                listTmp.append(f[posFirstRow+jj])\n",
    "            else:\n",
    "                totLine = ''.join(listTmp)\n",
    "                if totLine:\n",
    "                    listRows.append(removeFChar(totLine, ','))\n",
    "                    listTmp = [] \n",
    "        \n",
    "        outTab = '\\n'.join(listRows)\n",
    "        #dicTot[ii[9:-4]] = '\\n'.join(listRows)\n",
    "        fileOut = open('Fileset0_csv/'+ii[9:-4]+'.csv', 'wb')\n",
    "        fileOut.write(outTab)\n",
    "        fileOut.close()\n",
    "        \n",
    "    except:\n",
    "        ee = sys.exc_info()[0]\n",
    "        listFail.append([ii, ee])"
   ]
  },
  {
   "cell_type": "code",
   "execution_count": 17,
   "metadata": {
    "collapsed": false
   },
   "outputs": [
    {
     "name": "stdout",
     "output_type": "stream",
     "text": [
      "No errors\n"
     ]
    }
   ],
   "source": [
    "# Check exceptions\n",
    "if len(listFail) > 0: \n",
    "    print \"Errors with the following files:\"\n",
    "    for ii in listFail:\n",
    "        print \"\\n\"+ii[0]\n",
    "else:\n",
    "    print \"No errors\""
   ]
  },
  {
   "cell_type": "code",
   "execution_count": 18,
   "metadata": {
    "collapsed": true
   },
   "outputs": [],
   "source": [
    "# Creating pandas dataframe\n",
    "dicDF = {}\n",
    "listFail = []\n",
    "for ii in glob.glob('Fileset0_csv/*.csv'):\n",
    "    try:\n",
    "#    ii = glob.glob('Fileset0_csv/*.csv')[3]\n",
    "        df = pd.read_csv(ii)\n",
    "#print df\n",
    "\n",
    "# Removing zeropoint\n",
    "        tmp = pd.to_datetime(df['time'])-pd.to_datetime(df['time'][0])\n",
    "        df['time'] = tmp\n",
    "        dicDF[ii] = df\n",
    "    except:\n",
    "        ee = sys.exc_info()[0]\n",
    "        listFail.append([ii, ee])"
   ]
  },
  {
   "cell_type": "code",
   "execution_count": 19,
   "metadata": {
    "collapsed": false
   },
   "outputs": [
    {
     "name": "stdout",
     "output_type": "stream",
     "text": [
      "No errors\n"
     ]
    }
   ],
   "source": [
    "# Check exceptions\n",
    "if len(listFail) > 0: \n",
    "    print \"Errors with the following files:\"\n",
    "    for ii in listFail:\n",
    "        print \"\\n\"+ii[0]\n",
    "else:\n",
    "    print \"No errors\""
   ]
  },
  {
   "cell_type": "code",
   "execution_count": 24,
   "metadata": {
    "collapsed": false
   },
   "outputs": [],
   "source": [
    "# Saving output\n",
    "fileOut = open('dicDF.dat', 'wb')\n",
    "pickle.dump(dicDF, fileOut)\n",
    "fileOut.close()"
   ]
  }
 ],
 "metadata": {
  "celltoolbar": "Raw Cell Format",
  "kernelspec": {
   "display_name": "Python 2",
   "language": "python",
   "name": "python2"
  },
  "language_info": {
   "codemirror_mode": {
    "name": "ipython",
    "version": 2
   },
   "file_extension": ".py",
   "mimetype": "text/x-python",
   "name": "python",
   "nbconvert_exporter": "python",
   "pygments_lexer": "ipython2",
   "version": "2.7.10"
  }
 },
 "nbformat": 4,
 "nbformat_minor": 0
}
